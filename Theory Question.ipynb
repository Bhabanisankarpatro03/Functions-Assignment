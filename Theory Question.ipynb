{
 "cells": [
  {
   "cell_type": "markdown",
   "id": "9c14f993-e9be-4c18-ac3c-b14308ecad48",
   "metadata": {},
   "source": [
    "Theory Questions:"
   ]
  },
  {
   "cell_type": "markdown",
   "id": "62ee5ef9-e1f9-4a8c-b3db-c03b222f9dde",
   "metadata": {},
   "source": [
    "1. What is the difference between a function and a method in Python ?"
   ]
  },
  {
   "cell_type": "markdown",
   "id": "3ac80be5-9e6e-4a3a-99e9-7e8298891907",
   "metadata": {},
   "source": [
    "Functions vs Methods in Python\n",
    "While both functions and methods are blocks of reusable code, they differ in their context and usage:\n",
    "\n",
    "Functions\n",
    "\n",
    "* Standalone: Exist independently of classes.\n",
    "\n",
    "* Called directly: Invoked by their name.\n",
    "\n",
    "* No implicit access: Don't have  direct access to attributes or methods of an object.\n",
    "\n",
    "* Used for: General-purpose tasks, utility operations, or code modularization.\n",
    "\n",
    "\n",
    "Example:"
   ]
  },
  {
   "cell_type": "code",
   "execution_count": 3,
   "id": "7532e4cd-0ac9-45a0-a8a1-d8527528a94b",
   "metadata": {},
   "outputs": [
    {
     "name": "stdout",
     "output_type": "stream",
     "text": [
      "Hello RAJA\n"
     ]
    }
   ],
   "source": [
    "def greet(name):\n",
    "    print(\"Hello\",name)\n",
    "greet(\"RAJA\")"
   ]
  },
  {
   "cell_type": "markdown",
   "id": "bb45dd6c-2519-42e9-a8c7-3591b2cc51db",
   "metadata": {},
   "source": [
    "Methods\n",
    "\n",
    "* Bound to classes: Defined within a class. \n",
    "\n",
    "* Called on objects: Invoked using dot notation on an object of the class.\n",
    "\n",
    "* Implicit access: Have access to the object's attributes and other methods.\n",
    "\n",
    "* Used for: Defining object behavior, manipulating object data, and interacting with other objects.\n",
    "\n",
    "\n",
    "Example:"
   ]
  },
  {
   "cell_type": "code",
   "execution_count": 4,
   "id": "5003e122-a88e-4848-ad67-4af11f739507",
   "metadata": {},
   "outputs": [
    {
     "name": "stdout",
     "output_type": "stream",
     "text": [
      "Buddy says Woof!\n"
     ]
    }
   ],
   "source": [
    "class Dog:\n",
    "    def __init__(self, name):\n",
    "        self.name = name\n",
    "    def bark(self):\n",
    "        print(self.name, \"says Woof!\")\n",
    "my_dog = Dog(\"Buddy\")\n",
    "my_dog.bark() "
   ]
  },
  {
   "cell_type": "markdown",
   "id": "4fc5202b-9090-43fa-888c-2d164a610b6f",
   "metadata": {},
   "source": [
    "2. Explain the concept of function arguments and parameters in Python ."
   ]
  },
  {
   "cell_type": "markdown",
   "id": "84e50567-cb72-40ae-8512-9d819404972c",
   "metadata": {},
   "source": [
    "Function Arguments and Parameters in Python\n",
    "\n",
    "\n",
    "Parameters\n",
    "\n",
    "* Parameters are the variables defined in the function's definition. They act as placeholders for values that will be passed to the function when it's called.\n",
    "\n",
    "* They are listed within the parentheses of the function header.\n",
    "\n",
    "Arguments\n",
    "\n",
    "* Arguments are the actual values passed to a function when it's called. These values are assigned to the corresponding parameters in the function definition.\n",
    "\n",
    "* They are provided within the parentheses when the function is invoked.\n"
   ]
  },
  {
   "cell_type": "markdown",
   "id": "7398fbc7-22aa-4f5e-8fd2-fbe65f146544",
   "metadata": {},
   "source": [
    "3. What are the different ways to define and call a function in Python?"
   ]
  },
  {
   "cell_type": "markdown",
   "id": "eefe2c5d-6a9d-45cc-90a1-5ca118440a40",
   "metadata": {},
   "source": [
    "Defining Functions in Python\n",
    "\n",
    "In Python, you define a function using the def keyword followed by the function name, parentheses, and a colon. The function body is indented.\n",
    "\n",
    "* function_name: This is the name you give to the function.\n",
    "\n",
    "* parameters: These are optional variables that can be passed to the function when it's called.\n",
    "\n",
    "* docstring: This is an optional string that describes the function's purpose. It's a good practice to include docstrings for better code readability.\n",
    "\n"
   ]
  },
  {
   "cell_type": "markdown",
   "id": "a6511650-b0ce-4edd-b283-68eab4445019",
   "metadata": {},
   "source": [
    "Different Ways to Define and Call Functions\n",
    "\n",
    "Functions with No Parameters"
   ]
  },
  {
   "cell_type": "code",
   "execution_count": 2,
   "id": "cf293a80-2416-4d0f-9056-c77a5517d377",
   "metadata": {},
   "outputs": [
    {
     "name": "stdout",
     "output_type": "stream",
     "text": [
      "Hello, world!\n"
     ]
    }
   ],
   "source": [
    "def greet():\n",
    "    print(\"Hello, world!\")\n",
    "greet()"
   ]
  },
  {
   "cell_type": "markdown",
   "id": "65606b99-539c-4b00-a61a-7bd33e6d061d",
   "metadata": {},
   "source": [
    "Functions with Parameters"
   ]
  },
  {
   "cell_type": "code",
   "execution_count": 3,
   "id": "df326767-4cc1-427a-a06e-e9a1c436ad0e",
   "metadata": {},
   "outputs": [
    {
     "name": "stdout",
     "output_type": "stream",
     "text": [
      "7\n"
     ]
    }
   ],
   "source": [
    "def add(x, y):\n",
    "    return x + y\n",
    "result = add(3, 4)\n",
    "print(result)"
   ]
  },
  {
   "cell_type": "markdown",
   "id": "5959b882-f47a-41ab-96e3-cb4bf99dff23",
   "metadata": {},
   "source": [
    "Functions with Default Parameter Values"
   ]
  },
  {
   "cell_type": "code",
   "execution_count": 6,
   "id": "1805b6c1-1894-4c3d-8890-88a84f15c9b9",
   "metadata": {},
   "outputs": [
    {
     "name": "stdout",
     "output_type": "stream",
     "text": [
      "Hello, bhabani!\n",
      "Hello, raja!\n"
     ]
    }
   ],
   "source": [
    "def greet(name=\"bhabani\"):\n",
    "    print(\"Hello,\", name + \"!\")\n",
    "greet()\n",
    "greet(\"raja\")"
   ]
  },
  {
   "cell_type": "markdown",
   "id": "50f2ef41-78d6-4126-9a0e-0a56b92b43c5",
   "metadata": {},
   "source": [
    "Functions with Variable-Length Arguments"
   ]
  },
  {
   "cell_type": "code",
   "execution_count": 9,
   "id": "a66835cd-4da7-4a87-aaa1-5ec4c7385d18",
   "metadata": {},
   "outputs": [
    {
     "name": "stdout",
     "output_type": "stream",
     "text": [
      "apple\n",
      "banana\n",
      "cherry\n"
     ]
    }
   ],
   "source": [
    "def my_function(*args):\n",
    "  for arg in args:\n",
    "    print(arg)\n",
    "my_function(\"apple\", \"banana\", \"cherry\")"
   ]
  },
  {
   "cell_type": "markdown",
   "id": "280ed819-9359-49d9-b00e-cc972e8c6323",
   "metadata": {},
   "source": [
    "Functions with Keyword Arguments"
   ]
  },
  {
   "cell_type": "code",
   "execution_count": 11,
   "id": "5443b1aa-bc63-42be-ba78-a50743d5c071",
   "metadata": {},
   "outputs": [
    {
     "name": "stdout",
     "output_type": "stream",
     "text": [
      "first_name : bhabani\n",
      "last_name : patro\n",
      "age : 20\n"
     ]
    }
   ],
   "source": [
    "def my_function(**kwargs):\n",
    "  for key, value in kwargs.items():\n",
    "    print(key, \":\", value)\n",
    "my_function(first_name=\"bhabani\", last_name=\"patro\", age=20)"
   ]
  },
  {
   "cell_type": "markdown",
   "id": "efe274b5-0c8f-404f-8c27-5fbda35e114c",
   "metadata": {},
   "source": [
    "Nested Functions"
   ]
  },
  {
   "cell_type": "code",
   "execution_count": 16,
   "id": "447745c2-41e8-4f61-a1c8-719bfbac14b9",
   "metadata": {},
   "outputs": [
    {
     "name": "stdout",
     "output_type": "stream",
     "text": [
      "I am an inner function\n"
     ]
    }
   ],
   "source": [
    "def outer_function():\n",
    "  def inner_function():\n",
    "    print(\"I am an inner function\")\n",
    "  inner_function()\n",
    "outer_function()"
   ]
  },
  {
   "cell_type": "markdown",
   "id": "478d5844-c570-4128-9f20-f2be3cd780df",
   "metadata": {},
   "source": [
    "Recursive Functions"
   ]
  },
  {
   "cell_type": "code",
   "execution_count": 17,
   "id": "9022212a-183a-4b27-a803-4461a421020e",
   "metadata": {},
   "outputs": [
    {
     "name": "stdout",
     "output_type": "stream",
     "text": [
      "120\n"
     ]
    }
   ],
   "source": [
    "def factorial(n):\n",
    "  if n == 0:\n",
    "    return 1\n",
    "  else:\n",
    "    return n * factorial(n - 1)\n",
    "result = factorial(5)\n",
    "print(result) "
   ]
  },
  {
   "cell_type": "markdown",
   "id": "f4173515-5337-49fb-a702-a1f35bd8b323",
   "metadata": {},
   "source": [
    "4. What is the purpose of the `return` statement in a Python function?"
   ]
  },
  {
   "cell_type": "markdown",
   "id": "e9d8164a-bfd2-4fba-911b-a2b3aaf47a8e",
   "metadata": {},
   "source": [
    "Purpose of the return Statement in Python\n",
    "\n",
    "The return statement in Python serves two primary purposes:\n",
    "\n",
    "1. Terminating Function Execution\n",
    "* It signals the end of a function's execution.\n",
    "* Once the return statement is encountered, the function stops running, and control is passed back to the code that called the function.\n",
    "\n",
    "2. Returning a Value\n",
    "* Optionally, you can specify a value after the return keyword.\n",
    "* This value is then sent back to the caller of the function.\n",
    "* The returned value can be used in further calculations or assigned to variables.\n",
    "\n",
    "Example:"
   ]
  },
  {
   "cell_type": "code",
   "execution_count": 18,
   "id": "4bd50b2d-e200-43b3-8f71-eef6a0281010",
   "metadata": {},
   "outputs": [
    {
     "name": "stdout",
     "output_type": "stream",
     "text": [
      "8\n"
     ]
    }
   ],
   "source": [
    "def add(x, y):\n",
    "  \"\"\"Adds two numbers and returns the result.\"\"\"\n",
    "  result = x + y\n",
    "  return result\n",
    "sum = add(3, 5)\n",
    "print(sum)"
   ]
  },
  {
   "cell_type": "markdown",
   "id": "725221ee-929e-4418-a8ae-442818167475",
   "metadata": {},
   "source": [
    "5. What are iterators in Python and how do they differ from iterables?"
   ]
  },
  {
   "cell_type": "markdown",
   "id": "8db08944-8d91-4c9b-a26f-a167785972ed",
   "metadata": {},
   "source": [
    "Iterators vs. Iterables in Python\n",
    "\n",
    "\n",
    "Iterables\n",
    "\n",
    "* An iterable is any object that can be iterated over. This means you can use a for loop to go through its elements.   \n",
    "* Examples of iterables include lists, tuples, strings, dictionaries, and sets.\n",
    "* To check if an object is iterable, you can use the iter() function. If it returns an iterator, the object is iterable.   \n",
    "\n",
    "Iterators\n",
    "\n",
    "* An iterator is an object that implements the iterator protocol, which consists of two methods:\n",
    "* __iter__(): Returns the iterator object itself.   \n",
    "* __next__(): Returns the next item in the sequence. If there are no more items, it raises a StopIteration exception.\n",
    "* Iterators are created from iterables using the iter() function.\n",
    "* They are used internally by for loops to access elements one at a time.\n",
    "\n",
    "Example:"
   ]
  },
  {
   "cell_type": "code",
   "execution_count": 19,
   "id": "69e5383d-c776-4d9a-903d-16d759ba8b52",
   "metadata": {},
   "outputs": [
    {
     "name": "stdout",
     "output_type": "stream",
     "text": [
      "1\n",
      "2\n",
      "3\n"
     ]
    }
   ],
   "source": [
    "my_list = [1, 2, 3]\n",
    "my_iterator = iter(my_list)\n",
    "print(next(my_iterator)) \n",
    "print(next(my_iterator)) \n",
    "print(next(my_iterator))  "
   ]
  },
  {
   "cell_type": "markdown",
   "id": "70b4c05a-e4db-474d-9995-8ee5e3070146",
   "metadata": {},
   "source": [
    "6. Explain the concept of generators in Python and how they are defined."
   ]
  },
  {
   "cell_type": "markdown",
   "id": "f62d76f3-df73-40f9-9153-db8f70685b48",
   "metadata": {},
   "source": [
    "Generators in Python\n",
    "\n",
    "Generators are a special type of function in Python that return an iterator object. Unlike regular functions that return a single value and then terminate, generators can yield multiple values over time. This makes them highly efficient for creating large sequences of values without storing them all in memory at once.\n",
    "\n",
    "How Generators are Defined\n",
    "\n",
    "A generator function is defined like a normal function, but it uses the yield keyword instead of return to produce values."
   ]
  },
  {
   "cell_type": "code",
   "execution_count": 20,
   "id": "b87dbc81-3d3c-4823-a605-da829d4615f8",
   "metadata": {},
   "outputs": [],
   "source": [
    "def my_generator():\n",
    "    yield 1\n",
    "    yield 2\n",
    "    yield 3"
   ]
  },
  {
   "cell_type": "code",
   "execution_count": 23,
   "id": "76b384ab-e13b-45f7-af0b-b99cb4fb8d04",
   "metadata": {},
   "outputs": [
    {
     "name": "stdout",
     "output_type": "stream",
     "text": [
      "1\n",
      "2\n",
      "3\n"
     ]
    }
   ],
   "source": [
    "generator_object = my_generator()\n",
    "print(next(generator_object))\n",
    "print(next(generator_object)) \n",
    "print(next(generator_object))"
   ]
  },
  {
   "cell_type": "markdown",
   "id": "a78c2c5f-9995-43c6-b920-186b3ac64e57",
   "metadata": {},
   "source": [
    "7. What are the advantages of using generators over regular functions?"
   ]
  },
  {
   "cell_type": "markdown",
   "id": "dfc38fda-e20a-41a4-bd03-27fb64f0504e",
   "metadata": {},
   "source": [
    "Advantages of Generators Over Regular Functions\n",
    "\n",
    "Generators offer several key advantages over traditional functions:\n",
    "\n",
    "1. Memory Efficiency\n",
    "\n",
    "Generate values on the fly: Generators produce values as needed, rather than storing them all in memory at once. This is especially beneficial when dealing with large datasets.   \n",
    "Reduced memory footprint: By avoiding the creation of large intermediate lists, generators conserve memory resources.\n",
    "\n",
    "2. Performance Optimization\n",
    "\n",
    "Lazy evaluation: Calculations are deferred until the value is actually required. This can lead to significant performance improvements, especially for complex computations.   \n",
    "Infinite sequences: Generators can represent infinite sequences, which is impossible with regular functions.   \n",
    "\n",
    "3. Conciseness and Readability\n",
    "\n",
    "Simplified syntax: The yield keyword provides a clean and concise way to define generators.\n",
    "Improved code structure: Generators can help break down complex logic into smaller, more manageable units.\n",
    "\n",
    "4. Pipeline Operations\n",
    "\n",
    "Sequential processing: Generators can be used to create pipelines of operations, where the output of one generator becomes the input to the next. This can enhance code efficiency and readability.   \n",
    "\n",
    "5. Infinite Iterators\n",
    "\n",
    "Handle large or infinite datasets: Generators can handle datasets of any size, including infinite ones, without running out of memory.   \n",
    "\n",
    "In summary, generators offer a powerful and efficient way to handle data in Python, making them a valuable tool for a wide range of applications.   "
   ]
  },
  {
   "cell_type": "markdown",
   "id": "a2ae6bb3-c279-4701-866b-e33b88981871",
   "metadata": {},
   "source": [
    "8. What is a lambda function in Python and when is it typically used ."
   ]
  },
  {
   "cell_type": "markdown",
   "id": "07d49190-dcbf-481b-ad61-39929e961273",
   "metadata": {},
   "source": [
    "Lambda Functions in Python\n",
    "\n",
    "A lambda function is a small, anonymous function defined in a single line using the lambda keyword. It's often used for short, simple operations where defining a full function using def would be overkill.\n",
    "\n",
    "Syntax:"
   ]
  },
  {
   "cell_type": "code",
   "execution_count": 24,
   "id": "99455f29-47de-4d0d-b6b6-15e7a6385b2e",
   "metadata": {},
   "outputs": [
    {
     "data": {
      "text/plain": [
       "<function __main__.<lambda>(arguments)>"
      ]
     },
     "execution_count": 24,
     "metadata": {},
     "output_type": "execute_result"
    }
   ],
   "source": [
    "lambda arguments: expression"
   ]
  },
  {
   "cell_type": "code",
   "execution_count": 25,
   "id": "9f69b75e-91f1-45b5-907c-2f484b42b8aa",
   "metadata": {},
   "outputs": [
    {
     "name": "stdout",
     "output_type": "stream",
     "text": [
      "7\n"
     ]
    }
   ],
   "source": [
    "add = lambda x, y: x + y\n",
    "result = add(3, 4)\n",
    "print(result)"
   ]
  },
  {
   "cell_type": "markdown",
   "id": "7d0d5ae2-709c-454a-831c-d76ca0dc56b8",
   "metadata": {},
   "source": [
    "When to Use Lambda Functions\n",
    "\n",
    "* Short, Simple Operations: When you need a function for a one-time use or a very simple calculation.\n",
    "\n",
    "* Higher-Order Functions: As arguments to functions like map, filter, sorted, and reduce to perform transformations or filtering on data.\n",
    "\n",
    "* Function Pointers: When you need to pass a function as an argument to another function.\n",
    "\n",
    "\n",
    "Example with Higher-Order Functions"
   ]
  },
  {
   "cell_type": "code",
   "execution_count": 26,
   "id": "e137d0cc-f8df-4565-833e-e1fd4856a1be",
   "metadata": {},
   "outputs": [
    {
     "name": "stdout",
     "output_type": "stream",
     "text": [
      "[1, 4, 9, 16, 25]\n",
      "[2, 4]\n"
     ]
    }
   ],
   "source": [
    "numbers = [1, 2, 3, 4, 5]\n",
    "\n",
    "# Using lambda with map to square each number\n",
    "squared_numbers = list(map(lambda x: x * x, numbers))\n",
    "print(squared_numbers)  \n",
    "\n",
    "# Using lambda with filter to find even numbers\n",
    "even_numbers = list(filter(lambda x: x % 2 == 0, numbers))\n",
    "print(even_numbers) "
   ]
  },
  {
   "cell_type": "markdown",
   "id": "ddd98493-7dc7-40c3-bb0d-aac36c30ef27",
   "metadata": {},
   "source": [
    "9. Explain the purpose and usage of the `map()` function in Python."
   ]
  },
  {
   "cell_type": "markdown",
   "id": "cb5d7f56-08b1-4ec3-9ef2-60740c5ac5aa",
   "metadata": {},
   "source": [
    "Python's map() Function\n",
    "\n",
    "Purpose:\n",
    "\n",
    "The map() function in Python applies a given function to each item of an iterable (like a list, tuple, or string) and returns an iterator of the results. It's a concise way to perform operations on every element of an iterable without explicitly using a for loop.\n",
    "\n",
    "Example :"
   ]
  },
  {
   "cell_type": "code",
   "execution_count": 28,
   "id": "03fa325b-6a80-438e-b58e-39fd4f46f4bb",
   "metadata": {},
   "outputs": [
    {
     "name": "stdout",
     "output_type": "stream",
     "text": [
      "[2, 4, 6, 8, 10]\n"
     ]
    }
   ],
   "source": [
    "numbers = [1, 2, 3, 4, 5]\n",
    "def double(x):\n",
    "    return x * 2\n",
    "result = map(double, numbers)\n",
    "print(list(result)) "
   ]
  },
  {
   "cell_type": "markdown",
   "id": "41a9f281-0899-4012-8af1-b1440fd984b9",
   "metadata": {},
   "source": [
    "Example with multiple iterables:"
   ]
  },
  {
   "cell_type": "code",
   "execution_count": 29,
   "id": "c059430f-5231-4582-9ea5-b9f945bb06b2",
   "metadata": {},
   "outputs": [
    {
     "name": "stdout",
     "output_type": "stream",
     "text": [
      "[5, 7, 9]\n"
     ]
    }
   ],
   "source": [
    "numbers1 = [1, 2, 3]\n",
    "numbers2 = [4, 5, 6]\n",
    "def add(x, y):\n",
    "    return x + y\n",
    "result = map(add, numbers1, numbers2)\n",
    "print(list(result))"
   ]
  },
  {
   "cell_type": "markdown",
   "id": "5cbb232e-4c4a-4ed4-aa99-2f756c56c345",
   "metadata": {},
   "source": [
    "When to use map():\n",
    "\n",
    "* When you want to apply the same operation to every element of an iterable.\n",
    "\n",
    "* When you want to create a new iterable with transformed values.\n",
    "\n",
    "* When you prefer a functional programming style.\n",
    "\n",
    "By understanding map(), you can write more concise and efficient code for common data processing tasks."
   ]
  },
  {
   "cell_type": "markdown",
   "id": "43dead82-f35d-4de4-b353-18fcd4015999",
   "metadata": {},
   "source": [
    "10. What is the difference between `map()`, `reduce()`, and `filter()` functions in Python ?"
   ]
  },
  {
   "cell_type": "markdown",
   "id": "8724522e-87f0-4015-bf6f-96e871568bba",
   "metadata": {},
   "source": [
    "map()\n",
    "\n",
    "* Purpose: Applies a given function to each item of an iterable and returns an iterator of the results.\n",
    "\n",
    "* Returns: An iterator.\n",
    "\n",
    "\n",
    "Example :"
   ]
  },
  {
   "cell_type": "code",
   "execution_count": 30,
   "id": "7ef3be80-d6a5-4a28-bdfd-c984bb1254ff",
   "metadata": {},
   "outputs": [
    {
     "name": "stdout",
     "output_type": "stream",
     "text": [
      "[2, 4, 6, 8, 10]\n"
     ]
    }
   ],
   "source": [
    "numbers = [1, 2, 3, 4, 5]\n",
    "doubled = map(lambda x: x * 2, numbers)\n",
    "print(list(doubled)) "
   ]
  },
  {
   "cell_type": "markdown",
   "id": "cef628fb-015d-429a-95b7-2defb47afec5",
   "metadata": {},
   "source": [
    "filter()\n",
    "\n",
    "* Purpose: Creates a new iterable with elements from the original iterable that satisfy a given condition.\n",
    "\n",
    "* Returns: An iterator.\n",
    "\n",
    "\n",
    "Example :"
   ]
  },
  {
   "cell_type": "code",
   "execution_count": 31,
   "id": "21d1e460-e027-4352-9a97-4ba4aad30004",
   "metadata": {},
   "outputs": [
    {
     "name": "stdout",
     "output_type": "stream",
     "text": [
      "[2, 4]\n"
     ]
    }
   ],
   "source": [
    "numbers = [1, 2, 3, 4, 5]\n",
    "even_numbers = filter(lambda x: x % 2 == 0, numbers)\n",
    "print(list(even_numbers))"
   ]
  },
  {
   "cell_type": "markdown",
   "id": "f0d8a3c3-7eb1-4511-8ed1-b6bb4584ec27",
   "metadata": {},
   "source": [
    "reduce()\n",
    "\n",
    "* Purpose: Applies a given function cumulatively to the elements of an iterable,reducing it to a single value.\n",
    "\n",
    "* Returns: A single value.\n",
    "\n",
    "* Note: reduce() is not a built-in function in Python 3. It's in the functools module.\n",
    "\n",
    "Example:"
   ]
  },
  {
   "cell_type": "code",
   "execution_count": 36,
   "id": "c6285c80-700a-4310-8398-f01a8fd67e5d",
   "metadata": {},
   "outputs": [
    {
     "name": "stdout",
     "output_type": "stream",
     "text": [
      "120\n"
     ]
    }
   ],
   "source": [
    "from functools import reduce\n",
    "numbers = [2, 3, 4, 5]\n",
    "product = reduce(lambda x, y: x * y, numbers)\n",
    "print(product) "
   ]
  }
 ],
 "metadata": {
  "kernelspec": {
   "display_name": "Python 3 (ipykernel)",
   "language": "python",
   "name": "python3"
  },
  "language_info": {
   "codemirror_mode": {
    "name": "ipython",
    "version": 3
   },
   "file_extension": ".py",
   "mimetype": "text/x-python",
   "name": "python",
   "nbconvert_exporter": "python",
   "pygments_lexer": "ipython3",
   "version": "3.10.8"
  }
 },
 "nbformat": 4,
 "nbformat_minor": 5
}
