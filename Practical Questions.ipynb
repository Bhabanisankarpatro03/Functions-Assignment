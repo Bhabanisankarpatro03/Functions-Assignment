{
 "cells": [
  {
   "cell_type": "markdown",
   "id": "37705671-5205-45a9-b936-998bc0a84e44",
   "metadata": {},
   "source": [
    "Practical Questions :"
   ]
  },
  {
   "cell_type": "markdown",
   "id": "ef8068ee-07f0-4817-949e-c33d21ecddfa",
   "metadata": {},
   "source": [
    "1. Write a Python function that takes a list of numbers as input and returns the sum of all even numbers in the list."
   ]
  },
  {
   "cell_type": "code",
   "execution_count": 2,
   "id": "babd0b88-8d3c-4959-9253-d7fd3bc62184",
   "metadata": {},
   "outputs": [
    {
     "name": "stdout",
     "output_type": "stream",
     "text": [
      "20\n"
     ]
    }
   ],
   "source": [
    "def sum_of_even_numbers(numbers):\n",
    "  \"\"\"Calculates the sum of all even numbers in a list.\n",
    "  Args:\n",
    "    numbers: A list of numbers.\n",
    "  Returns:\n",
    "    The sum of all even numbers in the list.\n",
    "  \"\"\"\n",
    "  even_sum = 0\n",
    "  for num in numbers:\n",
    "    if num % 2 == 0:\n",
    "      even_sum += num\n",
    "  return even_sum\n",
    "my_list = [1, 2, 3, 4, 5, 6, 7, 8, 9]\n",
    "result = sum_of_even_numbers(my_list)\n",
    "print(result) "
   ]
  },
  {
   "cell_type": "markdown",
   "id": "2f8be067-68c0-43e6-98db-1650d0d9f2c8",
   "metadata": {},
   "source": [
    "2. Create a Python function that accepts a string and returns the reverse of that string."
   ]
  },
  {
   "cell_type": "code",
   "execution_count": 3,
   "id": "18654292-9812-4729-9668-95996aec179a",
   "metadata": {},
   "outputs": [
    {
     "name": "stdout",
     "output_type": "stream",
     "text": [
      "dlrow olleh\n"
     ]
    }
   ],
   "source": [
    "def reverse_string(s):\n",
    "    return s[::-1]\n",
    "my_string = \"hello world\"\n",
    "reversed_string = reverse_string(my_string)\n",
    "print(reversed_string) "
   ]
  },
  {
   "cell_type": "markdown",
   "id": "706e92b3-f70b-414b-a06b-1f64bf5ee463",
   "metadata": {},
   "source": [
    "3. Implement a Python function that takes a list of integers and returns a new list containing the squares of each number."
   ]
  },
  {
   "cell_type": "code",
   "execution_count": 5,
   "id": "f95679d2-6548-4186-a15b-1330894d07df",
   "metadata": {},
   "outputs": [
    {
     "name": "stdout",
     "output_type": "stream",
     "text": [
      "[1, 4, 9, 16, 25]\n"
     ]
    }
   ],
   "source": [
    "def square_list(nums):\n",
    "    return [n**2 for n in nums]\n",
    "my_list = [1, 2, 3, 4, 5]\n",
    "squared_list = square_list(my_list)\n",
    "print(squared_list)"
   ]
  },
  {
   "cell_type": "markdown",
   "id": "287912b7-5ad1-429b-ab8e-da68be74e174",
   "metadata": {},
   "source": [
    "4. Write a Python function that checks if a given number is prime or not from 1 to 200 ."
   ]
  },
  {
   "cell_type": "code",
   "execution_count": 1,
   "id": "72a71549-7f05-4cb7-973c-2e6768d4abb1",
   "metadata": {},
   "outputs": [
    {
     "name": "stdout",
     "output_type": "stream",
     "text": [
      "2 3 5 7 11 13 17 19 23 29 31 37 41 43 47 53 59 61 67 71 73 79 83 89 97 101 103 107 109 113 127 131 137 139 149 151 157 163 167 173 179 181 191 193 197 199 "
     ]
    }
   ],
   "source": [
    "def is_prime(num):\n",
    "  if num <= 1:\n",
    "    return False\n",
    "  if num <= 3:\n",
    "    return True\n",
    "  if num % 2 == 0 or num % 3 == 0:\n",
    "    return False\n",
    "  i = 5\n",
    "  while i * i <= num:\n",
    "    if num % i == 0 or num % (i + 2) == 0:\n",
    "      return False\n",
    "    i += 6\n",
    "  return True\n",
    "\n",
    "for num in range(1, 201):\n",
    "  if is_prime(num):\n",
    "    print(num, end=\" \")\n"
   ]
  },
  {
   "cell_type": "markdown",
   "id": "3db66a88-857c-4ff5-8708-e2b1bf7c2778",
   "metadata": {},
   "source": [
    "5. Create an iterator class in Python that generates the Fibonacci sequence up to a specified number of terms."
   ]
  },
  {
   "cell_type": "code",
   "execution_count": 2,
   "id": "c9840b86-e77d-408d-9fd6-4eb9b3c6e0f0",
   "metadata": {},
   "outputs": [
    {
     "name": "stdout",
     "output_type": "stream",
     "text": [
      "1 1 2 3 5 8 13 21 34 55 "
     ]
    }
   ],
   "source": [
    "class FibonacciIterator:\n",
    "    def __init__(self, n):\n",
    "        self.n = n\n",
    "        self.a, self.b = 0, 1\n",
    "        self.count = 0\n",
    "\n",
    "    def __iter__(self):\n",
    "        return self\n",
    "\n",
    "    def __next__(self):\n",
    "        if self.count >= self.n:\n",
    "            raise StopIteration\n",
    "        self.count += 1\n",
    "        self.a, self.b = self.b, self.a + self.b\n",
    "        return self.a\n",
    "# Example usage:\n",
    "for num in FibonacciIterator(10):\n",
    "    print(num, end=' ')"
   ]
  },
  {
   "cell_type": "markdown",
   "id": "55feef0d-e6dd-41d9-8fcf-5fe65586c9bc",
   "metadata": {},
   "source": [
    "6. Write a generator function in Python that yields the powers of 2 up to a given exponent ."
   ]
  },
  {
   "cell_type": "code",
   "execution_count": 4,
   "id": "6abcdd66-e6fa-4517-be66-c7c3f30ac947",
   "metadata": {},
   "outputs": [
    {
     "name": "stdout",
     "output_type": "stream",
     "text": [
      "[1, 2, 4, 8, 16]\n"
     ]
    }
   ],
   "source": [
    "def powers_of_two(n):\n",
    "    return [2**i for i in range(n)]\n",
    "print(powers_of_two(5))"
   ]
  },
  {
   "cell_type": "markdown",
   "id": "2ab28e57-3c2d-4dbe-a417-c0d3ed719cf7",
   "metadata": {},
   "source": [
    "7. Implement a generator function that reads a file line by line and yields each line as a string ."
   ]
  },
  {
   "cell_type": "code",
   "execution_count": 1,
   "id": "9ecde6c1-bf48-4c75-baf2-59f9a6ec492f",
   "metadata": {},
   "outputs": [],
   "source": [
    "def read_file_lines(filename):\n",
    "  with open(filename, 'r') as f:\n",
    "    for line in f:\n",
    "      yield line.strip()"
   ]
  },
  {
   "cell_type": "markdown",
   "id": "7e7c05a6-3897-433f-91e1-f28664a23878",
   "metadata": {},
   "source": [
    "8. Use a lambda function in Python to sort a list of tuples based on the second element of each tuple."
   ]
  },
  {
   "cell_type": "code",
   "execution_count": 2,
   "id": "14e712cd-3f16-4c6f-baa3-5fb6179edca6",
   "metadata": {},
   "outputs": [
    {
     "name": "stdout",
     "output_type": "stream",
     "text": [
      "[(4, 2), (1, 3), (2, 5)]\n"
     ]
    }
   ],
   "source": [
    "my_list = [(1, 3), (4, 2), (2, 5)]\n",
    "sorted_list = sorted(my_list, key=lambda x: x[1])\n",
    "print(sorted_list)"
   ]
  },
  {
   "cell_type": "markdown",
   "id": "b7dff37e-5ae0-41d0-8a11-0b71ff79a4fa",
   "metadata": {},
   "source": [
    "9. Write a Python program that uses `map()` to convert a list of temperatures from Celsius to Fahrenheit."
   ]
  },
  {
   "cell_type": "code",
   "execution_count": 3,
   "id": "b3a605a4-e2b6-40cb-ac7b-0d9e5dbf4cf3",
   "metadata": {},
   "outputs": [
    {
     "name": "stdout",
     "output_type": "stream",
     "text": [
      "[32.0, 50.0, 68.0, 86.0]\n"
     ]
    }
   ],
   "source": [
    "def celsius_to_fahrenheit(celsius):\n",
    "  return (celsius * 9/5) + 32\n",
    "temperatures_celsius = [0, 10, 20, 30]\n",
    "temperatures_fahrenheit = list(map(celsius_to_fahrenheit, temperatures_celsius))\n",
    "print(temperatures_fahrenheit)"
   ]
  },
  {
   "cell_type": "markdown",
   "id": "98deb8a1-b3de-4320-a4fc-727b072dc9f7",
   "metadata": {},
   "source": [
    "10. Create a Python program that uses `filter()` to remove all the vowels from a given string."
   ]
  },
  {
   "cell_type": "code",
   "execution_count": 4,
   "id": "fb571a4d-6b27-4ddc-aa9d-7e75e733325a",
   "metadata": {},
   "outputs": [
    {
     "name": "stdout",
     "output_type": "stream",
     "text": [
      "Ths s  smpl strng\n"
     ]
    }
   ],
   "source": [
    "def remove_vowels(char):\n",
    "  vowels = \"aeiouAEIOU\"\n",
    "  return char not in vowels\n",
    "string = \"This is a sample string\"\n",
    "result = \"\".join(filter(remove_vowels, string))\n",
    "print(result)"
   ]
  },
  {
   "cell_type": "code",
   "execution_count": null,
   "id": "5d5739c4-703c-4afb-af96-448c938d051f",
   "metadata": {},
   "outputs": [],
   "source": []
  },
  {
   "cell_type": "code",
   "execution_count": null,
   "id": "2176a5ab-9d1a-4a65-93e3-8169cac1517b",
   "metadata": {},
   "outputs": [],
   "source": [
    "def process_orders(orders):\n",
    "    \"\"\"Processes a list of orders and returns a list of tuples containing order number and total price.\n",
    "\n",
    "    Args:\n",
    "        orders: A list of lists, where each inner list represents an order with elements:\n",
    "               [order_number, book_title, quantity, price_per_item]\n",
    "\n",
    "    Returns:\n",
    "        A list of tuples, where each tuple contains the order number and the total price.\n",
    "    \"\"\"\n",
    "    result = []\n",
    "    for order in orders:\n",
    "        order_number, _, quantity, price_per_item = order\n",
    "        total_price = quantity * price_per_item\n",
    "        total_price += 10 if total_price < 100 else 0\n",
    "        result.append((order_number, total_price))\n",
    "    return result\n",
    "orders = [  [34587, \"Learning Python, Mark Lutz\", 4, 40.95],\n",
    "    [98762, \"Programming Python, Mark Lutz\", 5, 56.80],\n",
    "    [77226, \"Head First Python, Paul Barry\", 3, 32.95],\n",
    "    [88112, \"Einführung in Python3, Bernd Klein\", 3, 24.99]]\n",
    "result = process_orders(orders)\n",
    "print(result)"
   ]
  },
  {
   "cell_type": "markdown",
   "id": "f5c08023-0cf4-46f1-acdd-eee8d2d435a6",
   "metadata": {},
   "source": [
    "11.1) Write a Python program, which returns a list with 2-tuples. Each tuple consists of the order number and the\n",
    "product of the price per item and the quantity. The product should be increased by 10,- € if the value of the\n",
    "order is smaller than 100,00 €."
   ]
  },
  {
   "cell_type": "code",
   "execution_count": 6,
   "id": "d7591ed5-9527-4c0a-bf91-1ac8e19e64cb",
   "metadata": {},
   "outputs": [
    {
     "name": "stdout",
     "output_type": "stream",
     "text": [
      "[(34587, 163.8), (98762, 284.0), (77226, 108.85000000000001), (88112, 84.97)]\n"
     ]
    }
   ],
   "source": [
    "def calculate_order_totals(order_numbers, prices, quantities):\n",
    "    \"\"\"Calculates the total price for each order, applying a 10 euro increase if needed.\n",
    "\n",
    "    Args:\n",
    "        order_numbers: A list of order numbers.\n",
    "        prices: A list of prices per item.\n",
    "        quantities: A list of quantities.\n",
    "\n",
    "    Returns:\n",
    "        A list of tuples, where each tuple contains the order number and the total price.\n",
    "    \"\"\"\n",
    "    order_totals = []\n",
    "    for i in range(len(order_numbers)):\n",
    "        total_price = prices[i] * quantities[i]\n",
    "        if total_price < 100:\n",
    "            total_price += 10\n",
    "        order_totals.append(total_price)\n",
    "\n",
    "    return list(zip(order_numbers, order_totals))\n",
    "order_numbers = [34587, 98762, 77226, 88112]\n",
    "prices = [40.95, 56.80, 32.95, 24.99]\n",
    "quantities = [4, 5, 3, 3]\n",
    "\n",
    "result = calculate_order_totals(order_numbers, prices, quantities)\n",
    "print(result)"
   ]
  },
  {
   "cell_type": "markdown",
   "id": "19636624-51bf-45bc-b7d0-b50bb9268551",
   "metadata": {},
   "source": [
    "11.2) Write a Python program using lambda and map."
   ]
  },
  {
   "cell_type": "code",
   "execution_count": 7,
   "id": "a9ec808e-bd6f-494a-a29e-94d86c28a0bc",
   "metadata": {},
   "outputs": [
    {
     "name": "stdout",
     "output_type": "stream",
     "text": [
      "[(34587, 163.8), (98762, 284.0), (77226, 100), (88112, 100)]\n"
     ]
    }
   ],
   "source": [
    "def calculate_order_totals(order_numbers, prices, quantities):\n",
    "  \"\"\"Calculates the total price for each order, applying a 10 euro increase if needed.\n",
    "\n",
    "  Args:\n",
    "      order_numbers: A list of order numbers.\n",
    "      prices: A list of prices per item.\n",
    "      quantities: A list of quantities.\n",
    "\n",
    "  Returns:\n",
    "      A list of tuples, where each tuple contains the order number and the total price.\n",
    "  \"\"\"\n",
    "\n",
    "  order_totals = list(map(lambda x, y, z: (x, max(y * z, 100)),\n",
    "          order_numbers,\n",
    "          prices,\n",
    "          quantities,) )\n",
    "  return order_totals\n",
    "\n",
    "# Example usage\n",
    "order_numbers = [34587, 98762, 77226, 88112]\n",
    "prices = [40.95, 56.80, 32.95, 24.99]\n",
    "quantities = [4, 5, 3, 3]\n",
    "\n",
    "result = calculate_order_totals(order_numbers, prices, quantities)\n",
    "print(result)"
   ]
  },
  {
   "cell_type": "code",
   "execution_count": null,
   "id": "8d924041-6e73-4e5d-b3ae-80b0ff5c18c6",
   "metadata": {},
   "outputs": [],
   "source": []
  },
  {
   "cell_type": "code",
   "execution_count": null,
   "id": "285c77fd-bc2e-45b6-a758-21a89cb650a3",
   "metadata": {},
   "outputs": [],
   "source": []
  },
  {
   "cell_type": "code",
   "execution_count": null,
   "id": "99b07422-d26c-48d6-a05a-466172c32950",
   "metadata": {},
   "outputs": [],
   "source": []
  },
  {
   "cell_type": "code",
   "execution_count": null,
   "id": "4507d693-26a1-445e-987f-bd140ee7dfb2",
   "metadata": {},
   "outputs": [],
   "source": []
  },
  {
   "cell_type": "code",
   "execution_count": null,
   "id": "c631d0b6-d401-4adc-849a-ebef84e87801",
   "metadata": {},
   "outputs": [],
   "source": []
  },
  {
   "cell_type": "code",
   "execution_count": null,
   "id": "0458009b-8592-4e1a-9670-63e14b36a5ad",
   "metadata": {},
   "outputs": [],
   "source": []
  },
  {
   "cell_type": "code",
   "execution_count": null,
   "id": "f87b7fbb-7c5f-4080-a3d4-d0df276cfc8d",
   "metadata": {},
   "outputs": [],
   "source": []
  },
  {
   "cell_type": "code",
   "execution_count": null,
   "id": "62af1507-72be-417d-866a-0c7abf7f5833",
   "metadata": {},
   "outputs": [],
   "source": []
  },
  {
   "cell_type": "code",
   "execution_count": null,
   "id": "2a62d191-88eb-41a6-ae42-958f0ba2dea1",
   "metadata": {},
   "outputs": [],
   "source": []
  },
  {
   "cell_type": "code",
   "execution_count": null,
   "id": "ca0601db-b0d9-44de-829c-3a3df8720d4f",
   "metadata": {},
   "outputs": [],
   "source": []
  },
  {
   "cell_type": "code",
   "execution_count": null,
   "id": "a7df6740-d90a-4600-9fe8-dfbc022ced58",
   "metadata": {},
   "outputs": [],
   "source": []
  },
  {
   "cell_type": "code",
   "execution_count": null,
   "id": "140b06d0-5658-4e74-bec7-aef6845c9359",
   "metadata": {},
   "outputs": [],
   "source": []
  },
  {
   "cell_type": "code",
   "execution_count": null,
   "id": "54ddffe6-796a-46df-8014-fc35c3f4ef43",
   "metadata": {},
   "outputs": [],
   "source": []
  },
  {
   "cell_type": "code",
   "execution_count": null,
   "id": "ba49a53b-3a1c-4f72-bb64-43acfadb2012",
   "metadata": {},
   "outputs": [],
   "source": []
  },
  {
   "cell_type": "code",
   "execution_count": null,
   "id": "eb2f28d1-b643-4ecc-8b18-1eddf8d20df2",
   "metadata": {},
   "outputs": [],
   "source": []
  },
  {
   "cell_type": "code",
   "execution_count": null,
   "id": "f900965c-72aa-493c-bf6c-2fe86cf3baed",
   "metadata": {},
   "outputs": [],
   "source": []
  },
  {
   "cell_type": "code",
   "execution_count": null,
   "id": "3b113d1f-0875-4fd1-90c1-e1ab7fbc501b",
   "metadata": {},
   "outputs": [],
   "source": []
  },
  {
   "cell_type": "code",
   "execution_count": null,
   "id": "d73ac47e-b4e2-4971-8aa0-e2fe66eb4147",
   "metadata": {},
   "outputs": [],
   "source": []
  },
  {
   "cell_type": "code",
   "execution_count": null,
   "id": "28c895ac-7f4e-4529-ba9d-e5d23703533c",
   "metadata": {},
   "outputs": [],
   "source": []
  }
 ],
 "metadata": {
  "kernelspec": {
   "display_name": "Python 3 (ipykernel)",
   "language": "python",
   "name": "python3"
  },
  "language_info": {
   "codemirror_mode": {
    "name": "ipython",
    "version": 3
   },
   "file_extension": ".py",
   "mimetype": "text/x-python",
   "name": "python",
   "nbconvert_exporter": "python",
   "pygments_lexer": "ipython3",
   "version": "3.10.8"
  }
 },
 "nbformat": 4,
 "nbformat_minor": 5
}
